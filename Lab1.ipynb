{
  "cells": [
    {
      "cell_type": "markdown",
      "metadata": {
        "id": "view-in-github",
        "colab_type": "text"
      },
      "source": [
        "<a href=\"https://colab.research.google.com/github/lyricabdulrasheed/Lab-Workeet-Week-One-/blob/main/Lab1.ipynb\" target=\"_parent\"><img src=\"https://colab.research.google.com/assets/colab-badge.svg\" alt=\"Open In Colab\"/></a>"
      ]
    },
    {
      "cell_type": "markdown",
      "metadata": {
        "id": "r6YzXNjyTgX2"
      },
      "source": [
        "***Problem 1***"
      ]
    },
    {
      "cell_type": "code",
      "execution_count": null,
      "metadata": {
        "colab": {
          "base_uri": "https://localhost:8080/"
        },
        "id": "qiPr1QX4PuTo",
        "outputId": "96bac045-1d6a-47e0-ed5f-06b05a22b957"
      },
      "outputs": [
        {
          "name": "stdout",
          "output_type": "stream",
          "text": [
            "Hello world\n"
          ]
        }
      ],
      "source": [
        "print('Hello world')\n",
        "# This is a comment and won't be executed\n"
      ]
    },
    {
      "cell_type": "markdown",
      "metadata": {
        "id": "PQqqmBZgTJDn"
      },
      "source": [
        "***Problem 2***"
      ]
    },
    {
      "cell_type": "code",
      "execution_count": null,
      "metadata": {
        "colab": {
          "base_uri": "https://localhost:8080/"
        },
        "id": "jcI9U-5rTDIr",
        "outputId": "82184f84-9786-44a8-eea0-aeac775db6e5"
      },
      "outputs": [
        {
          "name": "stdout",
          "output_type": "stream",
          "text": [
            "Enter the value of the first interval (a): 2\n",
            "Enter the value of the first interval (b): 3\n",
            "Original values: a = 2, b = 3\n",
            "Swapped values: a = 3, b = 2\n"
          ]
        }
      ],
      "source": [
        "\n",
        "# Input two variables\n",
        "a = input(\"Enter the value of the first interval (a): \")\n",
        "b = input(\"Enter the value of the first interval (b): \")\n",
        "\n",
        "# Display the orginal values\n",
        "print(f\"Original values: a = {a}, b = {b}\")\n",
        "\n",
        "# Swap the values using a temporary variable\n",
        "temp = a\n",
        "a = b\n",
        "b = temp\n",
        "\n",
        "# Display the swapped values\n",
        "print(f\"Swapped values: a = {a}, b = {b}\")"
      ]
    },
    {
      "cell_type": "markdown",
      "metadata": {
        "id": "eq3z0d6VTZzZ"
      },
      "source": [
        "***Problem 3***"
      ]
    },
    {
      "cell_type": "code",
      "execution_count": null,
      "metadata": {
        "colab": {
          "background_save": true,
          "base_uri": "https://localhost:8080/"
        },
        "id": "Qu7mRjauUBhU",
        "outputId": "98b7abb1-4cff-460a-e195-3c95389c3fb1"
      },
      "outputs": [
        {
          "name": "stdout",
          "output_type": "stream",
          "text": [
            "sum:1.0+2.0=3.0\n"
          ]
        }
      ],
      "source": [
        "# Addition\n",
        "num1 = float(input(\"Enter the first number for addition: \"))\n",
        "num2 = float(input(\"Enter the second number for addition: \"))\n",
        "sum_result = num1 + num2\n",
        "print(f\"sum:{num1}+{num2}={sum_result}\")\n",
        "\n",
        "#Division\n",
        "num3 = float(input(\"Enter the dividend for division: \"))\n",
        "num4 = float(input(\"Enter the divisor for division: \"))\n",
        "if num4==0:\n",
        "  print(\"Error: Division by zero is not allowed.\")\n",
        "else:\n",
        "    div_result = num3/num4\n",
        "    print(f\"Division: {num3}/{num4}={div_result}\")"
      ]
    },
    {
      "cell_type": "markdown",
      "metadata": {
        "id": "hG4UGWCPTYmk"
      },
      "source": [
        "***Problem 4***"
      ]
    },
    {
      "cell_type": "code",
      "execution_count": null,
      "metadata": {
        "colab": {
          "base_uri": "https://localhost:8080/"
        },
        "id": "XNhTBL9rUGL5",
        "outputId": "fc34c7da-5d82-4ae0-cb95-220ece703d18"
      },
      "outputs": [
        {
          "name": "stdout",
          "output_type": "stream",
          "text": [
            "Enter distance in kilometers: 6\n",
            "6.0 kilometers is equal to 3.7282260000000003 miles\n"
          ]
        }
      ],
      "source": [
        "# Input distance in kilometers\n",
        "kilometers = float(input(\"Enter distance in kilometers: \"))\n",
        "\n",
        "# Conversion factor: 1 kilometer = 0.621371 miles\n",
        "conversion_factor = 0.621371\n",
        "\n",
        "# Convert kilometers to miles\n",
        "miles = kilometers * conversion_factor\n",
        "\n",
        "# Display the result\n",
        "print(f\"{kilometers} kilometers is equal to {miles} miles\")"
      ]
    },
    {
      "cell_type": "markdown",
      "metadata": {
        "id": "15K5os9tVCaI"
      },
      "source": [
        "***Problem 5***"
      ]
    },
    {
      "cell_type": "code",
      "execution_count": null,
      "metadata": {
        "colab": {
          "base_uri": "https://localhost:8080/"
        },
        "id": "QZ_G0KnEVCMd",
        "outputId": "8ed5e831-7728-4c28-bc34-cb4534224ea4"
      },
      "outputs": [
        {
          "name": "stdout",
          "output_type": "stream",
          "text": [
            "Libraries imported successfully!\n"
          ]
        }
      ],
      "source": [
        "# Importing the NumPy library for numerical operations\n",
        "import numpy as np\n",
        "\n",
        "# Import Matplotlib for plotting\n",
        "import matplotlib.pyplot as plt\n",
        "\n",
        "# Importing pandas for data handling\n",
        "import pandas as pd\n",
        "\n",
        "print(\"Libraries imported successfully!\")"
      ]
    },
    {
      "cell_type": "markdown",
      "metadata": {
        "id": "LAuSuSfpVhqX"
      },
      "source": [
        "***Problem 6***"
      ]
    },
    {
      "cell_type": "code",
      "execution_count": null,
      "metadata": {
        "colab": {
          "base_uri": "https://localhost:8080/"
        },
        "id": "fl5Il997VkNq",
        "outputId": "3e24e8cb-c689-4d81-b797-50a57ca443df"
      },
      "outputs": [
        {
          "name": "stdout",
          "output_type": "stream",
          "text": [
            "Enter year: 2003\n",
            "Enter month: 12\n",
            "   December 2003\n",
            "Mo Tu We Th Fr Sa Su\n",
            " 1  2  3  4  5  6  7\n",
            " 8  9 10 11 12 13 14\n",
            "15 16 17 18 19 20 21\n",
            "22 23 24 25 26 27 28\n",
            "29 30 31\n",
            "\n"
          ]
        }
      ],
      "source": [
        "# Importing the calendar module\n",
        "import calendar\n",
        "\n",
        "# Input year and month from the user\n",
        "year = int(input(\"Enter year: \"))\n",
        "month = int(input(\"Enter month: \"))\n",
        "\n",
        "# Get the calendar for the specified month and year\n",
        "cal = calendar.month(year, month)\n",
        "\n",
        "# Print the calendar\n",
        "print(cal)\n"
      ]
    }
  ],
  "metadata": {
    "colab": {
      "provenance": [],
      "include_colab_link": true
    },
    "kernelspec": {
      "display_name": "Python 3",
      "name": "python3"
    },
    "language_info": {
      "name": "python"
    }
  },
  "nbformat": 4,
  "nbformat_minor": 0
}